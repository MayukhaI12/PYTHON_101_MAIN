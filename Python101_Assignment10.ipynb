{
  "nbformat": 4,
  "nbformat_minor": 0,
  "metadata": {
    "colab": {
      "provenance": [],
      "toc_visible": true,
      "include_colab_link": true
    },
    "kernelspec": {
      "name": "python3",
      "display_name": "Python 3"
    },
    "language_info": {
      "name": "python"
    }
  },
  "cells": [
    {
      "cell_type": "markdown",
      "metadata": {
        "id": "view-in-github",
        "colab_type": "text"
      },
      "source": [
        "<a href=\"https://colab.research.google.com/github/MayukhaI12/Assignment-10/blob/main/A10_exploring_lists.ipynb\" target=\"_parent\"><img src=\"https://colab.research.google.com/assets/colab-badge.svg\" alt=\"Open In Colab\"/></a>"
      ]
    },
    {
      "cell_type": "markdown",
      "source": [
        "# Lists\n"
      ],
      "metadata": {
        "id": "HpIJY9lvgjMV"
      }
    },
    {
      "cell_type": "markdown",
      "source": [
        "* https://www.w3schools.com/python/python_ref_list.asp  (Python List Methods)\n",
        "* https://www.w3schools.com/python/python_ref_functions.asp (Python Built-in Functions)"
      ],
      "metadata": {
        "id": "imH1nSNBUuG_"
      }
    },
    {
      "cell_type": "code",
      "source": [
        "#@title Lists: An Introduction\n",
        "\n",
        "#Data Type\n",
        "My_Family_list = [\"Amma\",\"Nanna\"]\n",
        "print(\"List of Element\", My_Family_list)\n",
        "\n",
        "#List Type\n",
        "print(\"Data Type\", type(My_Family_list))"
      ],
      "metadata": {
        "id": "iE_KtgxUn4at",
        "outputId": "6a42903a-929f-462a-fcf3-bdb4743bfba7",
        "colab": {
          "base_uri": "https://localhost:8080/"
        }
      },
      "execution_count": 4,
      "outputs": [
        {
          "output_type": "stream",
          "name": "stdout",
          "text": [
            "List of Element ['Amma', 'Nanna']\n",
            "Data Type <class 'list'>\n"
          ]
        }
      ]
    },
    {
      "cell_type": "code",
      "source": [
        "#@title 1.Creating an empty list\n",
        "\n",
        "My_Family_list = []\n",
        "print(\"List of Element\", My_Family_list)\n",
        "print(\"Length of the list is\", len(My_Family_list))"
      ],
      "metadata": {
        "id": "4GnRakGpUz8V",
        "outputId": "5224bbad-75d2-4ee0-e4c8-d2ad72d3b748",
        "colab": {
          "base_uri": "https://localhost:8080/"
        }
      },
      "execution_count": 14,
      "outputs": [
        {
          "output_type": "stream",
          "name": "stdout",
          "text": [
            "List of Element []\n",
            "Length of the list is 0\n"
          ]
        }
      ]
    },
    {
      "cell_type": "code",
      "source": [
        "#@title 2.Creating a list with some elements\n",
        "My_Family_List = ['Amma','Nanna','Me','Agastya']\n",
        "print(\"List of Element\", My_Family_List)"
      ],
      "metadata": {
        "id": "uCm9yPLDU0O0",
        "outputId": "c22cc998-3ece-4d29-e702-bafc7b3166b2",
        "colab": {
          "base_uri": "https://localhost:8080/"
        }
      },
      "execution_count": 10,
      "outputs": [
        {
          "output_type": "stream",
          "name": "stdout",
          "text": [
            "List of Element ['Amma', 'Nanna', 'Me', 'Agastya']\n"
          ]
        }
      ]
    },
    {
      "cell_type": "code",
      "source": [
        "#@title 3.Adding elements at the end\n",
        "\n",
        "\n",
        "#Adding elements at the end using 'append'.  \n",
        "My_Family_List = ['Amma','Nanna']\n",
        "print(\"My Family List\", My_Family_List)\n",
        "\n",
        "My_Family_List.append('Me')\n",
        "My_Family_List.append('Agastya')\n",
        "\n",
        "print(\"My Family List after adding kids at the end using append:\",My_Family_List)\n",
        "\n",
        "#Adding elements at the end using 'extend'.\n",
        "My_Family_List = ['Amma','Nanna']\n",
        "print(\"My Family List\", My_Family_List)\n",
        "\n",
        "My_Family_Kids_List = ['Me','Agastya']\n",
        "My_Family_List.extend(My_Family_Kids_List)\n",
        "\n",
        "print(\"My Family List After Adding Kids at the end using Extend\", My_Family_List)"
      ],
      "metadata": {
        "id": "rEpmqm7MU0Si",
        "outputId": "4d5d24fa-9093-4304-ddb0-6374ef10aa03",
        "colab": {
          "base_uri": "https://localhost:8080/"
        }
      },
      "execution_count": 20,
      "outputs": [
        {
          "output_type": "stream",
          "name": "stdout",
          "text": [
            "My Family List ['Amma', 'Nanna']\n",
            "My Family List after adding kids at the end using append: ['Amma', 'Nanna', 'Me', 'Agastya']\n",
            "My Family List ['Amma', 'Nanna']\n",
            "My Family List After Adding Kids at the end using Extend ['Amma', 'Nanna', 'Me', 'Agastya']\n"
          ]
        }
      ]
    },
    {
      "cell_type": "code",
      "source": [
        "#@title 4.Accessing an element (positive index)\n",
        "# also known as \"Reading an element\"\n",
        "# also known as \"Setting an element\"\n",
        "print(\"First Person in the family using Positive Index:\" , My_Family_List[0])\n",
        "print(\"Second Person in the family using Positive Index:\" , My_Family_List[1])\n",
        "print(\"Third Person in the family using Positive Index:\" , My_Family_List[2])\n",
        "print(\"Fourth Person in the family using Positive Index:\" , My_Family_List[3])"
      ],
      "metadata": {
        "id": "AMTpZsLMU0Vr",
        "colab": {
          "base_uri": "https://localhost:8080/"
        },
        "outputId": "03a0f474-20b1-42a9-c876-a18468ac0c27"
      },
      "execution_count": 25,
      "outputs": [
        {
          "output_type": "stream",
          "name": "stdout",
          "text": [
            "First Person in the family using Positive Index: Amma\n",
            "Second Person in the family using Positive Index: Nanna\n",
            "Third Person in the family using Positive Index: Me\n",
            "Fourth Person in the family using Positive Index: Agastya\n"
          ]
        }
      ]
    },
    {
      "cell_type": "code",
      "source": [
        "#@title 5.Accessing an element (through Negative Indexing)\n",
        "# also known as \"Reading an element\"\n",
        "# also known as \"Setting an element\"\n",
        "\n",
        "print(\"Youngest Person in the family using Negative Index:\" , My_Family_List[-1])\n",
        "print(\"Second youngest Person in the family using Negative Index:\" , My_Family_List[-2])\n",
        "print(\"Second oldest Person in the family using Negative Index:\" , My_Family_List[-3])\n",
        "print(\"Oldest Person in the family using Negative Index:\" , My_Family_List[-4])"
      ],
      "metadata": {
        "id": "VWaPKymnXdtx",
        "outputId": "6a318076-f2c6-4112-b011-df89a4e9e445",
        "colab": {
          "base_uri": "https://localhost:8080/"
        }
      },
      "execution_count": 26,
      "outputs": [
        {
          "output_type": "stream",
          "name": "stdout",
          "text": [
            "Youngest Person in the family using Negative Index: Agastya\n",
            "Second youngest Person in the family using Negative Index: Me\n",
            "Second oldest Person in the family using Negative Index: Nanna\n",
            "Oldest Person in the family using Negative Index: Amma\n"
          ]
        }
      ]
    },
    {
      "cell_type": "code",
      "source": [
        "#@title 6.Adding an element at the front of the list\n",
        "My_Family_List = ['Amma','Nanna','Me','Agastya']\n",
        "\n",
        "My_Family_List.insert(0,'Mat - Thatha')\n",
        "My_Family_List.insert(1,'Pat - Thatha')\n",
        "My_Family_List.insert(2,'Ammamma')\n",
        "My_Family_List.insert(3,'Nannamma')\n",
        "\n",
        "print(\"List after inserting in the front using 'insert' command:\",My_Family_List)"
      ],
      "metadata": {
        "id": "dSKr5_20U0YS",
        "outputId": "f3605733-cbc5-4457-f433-08898337cb8a",
        "colab": {
          "base_uri": "https://localhost:8080/"
        }
      },
      "execution_count": 37,
      "outputs": [
        {
          "output_type": "stream",
          "name": "stdout",
          "text": [
            "List after inserting in the front using 'insert' command: ['Mat - Thatha', 'Pat - Thatha', 'Ammamma', 'Nannamma', 'Amma', 'Nanna', 'Me', 'Agastya']\n"
          ]
        }
      ]
    },
    {
      "cell_type": "code",
      "source": [
        "#@title 7.Adding an element anywhere (at a specific index) \n",
        "My_Family_List = ['Amma','Nanna','Me','Agastya']\n",
        "\n",
        "My_Family_List.insert(0,'Mat - Thatha')\n",
        "My_Family_List.insert(1,'Pat - Thatha')\n",
        "My_Family_List.insert(2,'Ammamma')\n",
        "My_Family_List.insert(3,'Nannamma')\n",
        "\n",
        "print(\"List after inserting in the front using 'insert' command:\",My_Family_List)"
      ],
      "metadata": {
        "id": "jvMJf2-2U0bM"
      },
      "execution_count": null,
      "outputs": []
    },
    {
      "cell_type": "code",
      "source": [
        "#@title 8.Updating (or Replacing) an element\n",
        "My_Family_List.pop(0)\n",
        "My_Family_List.insert(0,'Shankar Sastry')\n",
        "\n",
        "My_Family_List.pop(1)\n",
        "My_Family_List.insert(1,'Samba Siva Rao')\n",
        "\n",
        "My_Family_List.pop(2)\n",
        "My_Family_List.insert(2,'Koumari')\n",
        "\n",
        "My_Family_List.pop(3)\n",
        "My_Family_List.insert(3,'Jagadamba')\n",
        "\n",
        "\n",
        "\n",
        "print(\"My family list after modifying:\",My_Family_List)"
      ],
      "metadata": {
        "id": "DUG9xlraaTlO",
        "outputId": "dc4a2d56-bc4f-4584-8673-8b1d85a99fd1",
        "colab": {
          "base_uri": "https://localhost:8080/"
        }
      },
      "execution_count": 39,
      "outputs": [
        {
          "output_type": "stream",
          "name": "stdout",
          "text": [
            "My family list after modifying: ['Shankar Sastry', 'Samba Siva Rao', 'Koumari', 'Jagadamba', 'Amma', 'Nanna', 'Me', 'Agastya']\n"
          ]
        }
      ]
    },
    {
      "cell_type": "code",
      "source": [
        "#@title 9.Looping through the list (just for READING)\n",
        "for i in range(0,len(My_Family_List)):\n",
        "  print(\"Family Member at position\", i+1 ,\"is\", My_Family_List[i])\n"
      ],
      "metadata": {
        "id": "F6P3NNhFU0j8",
        "outputId": "134c46f9-1ecd-4a06-ffe5-9345f04ed6dd",
        "colab": {
          "base_uri": "https://localhost:8080/"
        }
      },
      "execution_count": 41,
      "outputs": [
        {
          "output_type": "stream",
          "name": "stdout",
          "text": [
            "Family Member at position 1 is Shankar Sastry\n",
            "Family Member at position 2 is Samba Siva Rao\n",
            "Family Member at position 3 is Koumari\n",
            "Family Member at position 4 is Jagadamba\n",
            "Family Member at position 5 is Amma\n",
            "Family Member at position 6 is Nanna\n",
            "Family Member at position 7 is Me\n",
            "Family Member at position 8 is Agastya\n"
          ]
        }
      ]
    },
    {
      "cell_type": "code",
      "source": [
        "#@title 10.Looping through the list (for UPDATING)\n",
        "My_List = [1,2,3,5,10,12,11,30,99,999]\n",
        "print(\"My list before replacement:\", My_List)\n",
        "for i in range(0,len(My_List)):\n",
        "  My_List[i]=i \n",
        "\n",
        "print(\"My list after replacement:\", My_List)"
      ],
      "metadata": {
        "id": "QFJmGzYOU0nG",
        "outputId": "f85d5d76-5c08-4885-cf31-a213dcc42624",
        "colab": {
          "base_uri": "https://localhost:8080/"
        }
      },
      "execution_count": 43,
      "outputs": [
        {
          "output_type": "stream",
          "name": "stdout",
          "text": [
            "My list before replacement: [1, 2, 3, 5, 10, 12, 11, 30, 99, 999]\n",
            "My list after replacement: [0, 1, 2, 3, 4, 5, 6, 7, 8, 9]\n"
          ]
        }
      ]
    },
    {
      "cell_type": "code",
      "source": [
        "#@title 11.Common Operations: Find the length of the list\n",
        "# Find the number of elements in the list\n",
        "print(\"Length of my list is:\",len(My_List))"
      ],
      "metadata": {
        "id": "_OiuJHIeU0p6",
        "outputId": "d6967385-937a-4fc1-d7b0-133ae0ae6c27",
        "colab": {
          "base_uri": "https://localhost:8080/"
        }
      },
      "execution_count": 44,
      "outputs": [
        {
          "output_type": "stream",
          "name": "stdout",
          "text": [
            "Length of my list is: 10\n"
          ]
        }
      ]
    },
    {
      "cell_type": "code",
      "source": [
        "#@title 12.Common Operations: Find the maximum in the list\n",
        "My_List = [1,2,3,5,10,12,11,30,99,999]\n",
        "print(\"Maximum of my list is:\",max(My_List))"
      ],
      "metadata": {
        "id": "IhGhO_XxU0tB",
        "outputId": "17eda303-e9d3-4344-ca75-f4facc33879f",
        "colab": {
          "base_uri": "https://localhost:8080/"
        }
      },
      "execution_count": 47,
      "outputs": [
        {
          "output_type": "stream",
          "name": "stdout",
          "text": [
            "Maximum of my list is: 999\n"
          ]
        }
      ]
    },
    {
      "cell_type": "code",
      "source": [
        "#@title 13.Common Operations: Find the minimum in the list\n",
        "print(\"Minimum of my list is:\",min(My_List))"
      ],
      "metadata": {
        "id": "D4vmqhUHYaVC"
      },
      "execution_count": null,
      "outputs": []
    },
    {
      "cell_type": "code",
      "source": [
        "#@title 14.Common Operations: Find the sum of elements in the list\n",
        "print(\"The sum of the elements of my list is:\",sum(My_List))"
      ],
      "metadata": {
        "id": "ULNy2XkGYd5g",
        "outputId": "a8206aa1-f07c-41c7-e744-9b48b4662b22",
        "colab": {
          "base_uri": "https://localhost:8080/"
        }
      },
      "execution_count": 48,
      "outputs": [
        {
          "output_type": "stream",
          "name": "stdout",
          "text": [
            "The sum of the elements of my list is: 1172\n"
          ]
        }
      ]
    },
    {
      "cell_type": "code",
      "source": [
        "#@title 14.Removing an element by value\n",
        "\n",
        "for i in range(0,len(My_List)):\n",
        "  if (My_List[i] == 10):\n",
        "    My_List.pop(i)\n",
        "    break\n",
        "\n",
        "print(\"My list after removing the specific value:\",My_List)"
      ],
      "metadata": {
        "id": "8UfCeQSpYwFB",
        "outputId": "5673184d-c38e-4cfa-9888-ad049451a8e1",
        "colab": {
          "base_uri": "https://localhost:8080/"
        }
      },
      "execution_count": 53,
      "outputs": [
        {
          "output_type": "stream",
          "name": "stdout",
          "text": [
            "My list after removing the specific value: [1, 2, 3, 12, 11, 99, 999]\n"
          ]
        }
      ]
    },
    {
      "cell_type": "code",
      "source": [
        "#@title 15.Removing the last element in the list\n",
        "My_List.pop(-1)\n",
        "\n",
        "print(\"My list after removing the last element in the list:\",My_List)\n"
      ],
      "metadata": {
        "id": "8pLgwYe0YwOY",
        "outputId": "96a0036b-4158-467c-901d-9a75b0091d3a",
        "colab": {
          "base_uri": "https://localhost:8080/"
        }
      },
      "execution_count": 54,
      "outputs": [
        {
          "output_type": "stream",
          "name": "stdout",
          "text": [
            "My list after removing the last element in the list: [1, 2, 3, 12, 11, 99]\n"
          ]
        }
      ]
    },
    {
      "cell_type": "code",
      "source": [
        "#@title 16.Removing an element at a given index\n",
        "My_List = [1,2,3,5,10,12,11,30,99,999]\n",
        "\n",
        "for i in range(0,len(My_List)):\n",
        "  print(\"The value of the list at\",i,\"index is\",My_List[i])\n",
        "  x = input(\"Do you want to remove it? (Yes or No): \")\n",
        "  if (x == 'yes'):\n",
        "    My_List.pop(i)\n",
        "    break\n",
        "  else:\n",
        "    continue\n",
        "\n",
        "print(\"List after modification:\",My_List)"
      ],
      "metadata": {
        "id": "2jpc-7ppYwb_",
        "outputId": "e0232ccc-96ed-491f-d136-7bd2b9a931a1",
        "colab": {
          "base_uri": "https://localhost:8080/"
        }
      },
      "execution_count": 63,
      "outputs": [
        {
          "output_type": "stream",
          "name": "stdout",
          "text": [
            "The value of the list at 0 index is 1\n",
            "Do you want to remove it? (Yes or No): no\n",
            "The value of the list at 1 index is 2\n",
            "Do you want to remove it? (Yes or No): no\n",
            "The value of the list at 2 index is 3\n",
            "Do you want to remove it? (Yes or No): q\n",
            "The value of the list at 3 index is 5\n",
            "Do you want to remove it? (Yes or No): \n",
            "The value of the list at 4 index is 10\n",
            "Do you want to remove it? (Yes or No): \n",
            "The value of the list at 5 index is 12\n",
            "Do you want to remove it? (Yes or No): \n",
            "The value of the list at 6 index is 11\n",
            "Do you want to remove it? (Yes or No): \n",
            "The value of the list at 7 index is 30\n",
            "Do you want to remove it? (Yes or No): \n",
            "The value of the list at 8 index is 99\n",
            "Do you want to remove it? (Yes or No): \n",
            "The value of the list at 9 index is 999\n",
            "Do you want to remove it? (Yes or No): \n",
            "List after modification: [1, 2, 3, 5, 10, 12, 11, 30, 99, 999]\n"
          ]
        }
      ]
    },
    {
      "cell_type": "code",
      "source": [
        "#@title 17.Extending a list\n",
        "#(Adding several elements to one list)\n"
      ],
      "metadata": {
        "id": "f9CutvMNYwn6"
      },
      "execution_count": null,
      "outputs": []
    },
    {
      "cell_type": "code",
      "source": [
        "#@title 18.Search for an element. What is the index?\n"
      ],
      "metadata": {
        "id": "S7JBtxoufmw0"
      },
      "execution_count": null,
      "outputs": []
    },
    {
      "cell_type": "code",
      "source": [
        "#@title 19.Count the number of times an element is appearing\n",
        "\n"
      ],
      "metadata": {
        "id": "xtYWNnRUfykZ"
      },
      "execution_count": null,
      "outputs": []
    },
    {
      "cell_type": "code",
      "execution_count": null,
      "metadata": {
        "colab": {
          "base_uri": "https://localhost:8080/"
        },
        "id": "HzdJE7DjkZ7-",
        "outputId": "a130b59c-5076-4038-bd11-b8989a6246f8"
      },
      "outputs": [
        {
          "output_type": "stream",
          "name": "stdout",
          "text": [
            "54.3 ns ± 5.4 ns per loop (mean ± std. dev. of 7 runs, 10000000 loops each)\n"
          ]
        }
      ],
      "source": [
        "#@title 20.Checking for Membership (in)"
      ]
    },
    {
      "cell_type": "code",
      "source": [
        "#@title 21.Checking for Membership (not in)"
      ],
      "metadata": {
        "id": "0jlu0amZfUYv"
      },
      "execution_count": null,
      "outputs": []
    },
    {
      "cell_type": "code",
      "source": [
        "#@title 22.Reverse a list\n"
      ],
      "metadata": {
        "id": "4ss-JZlugMdZ"
      },
      "execution_count": null,
      "outputs": []
    },
    {
      "cell_type": "code",
      "source": [
        "#@title 23.Sort a list\n"
      ],
      "metadata": {
        "id": "XNEHDoaFgop0"
      },
      "execution_count": null,
      "outputs": []
    },
    {
      "cell_type": "code",
      "source": [
        "#@title 24.Copy a list (Caution: Don't reassign)\n"
      ],
      "metadata": {
        "id": "OKubdzAkhAzu"
      },
      "execution_count": null,
      "outputs": []
    },
    {
      "cell_type": "code",
      "source": [
        "#@title 25.Clear (Empty) a list\n",
        "#Delete all the elements in the list\n"
      ],
      "metadata": {
        "id": "EtzP3vuKgt8T"
      },
      "execution_count": null,
      "outputs": []
    },
    {
      "cell_type": "code",
      "source": [
        "#@title 26.Delete the entire list"
      ],
      "metadata": {
        "id": "Kio7904Bh1uk"
      },
      "execution_count": null,
      "outputs": []
    },
    {
      "cell_type": "code",
      "source": [
        "#@title 27.Cool Operation: You can add lists"
      ],
      "metadata": {
        "id": "xrsUOIOmiGT7"
      },
      "execution_count": null,
      "outputs": []
    },
    {
      "cell_type": "code",
      "source": [
        "#@title 28.Cool Operation: You can multiply/repeat a list"
      ],
      "metadata": {
        "id": "daHyLToliKFa"
      },
      "execution_count": null,
      "outputs": []
    },
    {
      "cell_type": "code",
      "source": [
        "#@title 29.Cool Operation: You can convert a range to a list"
      ],
      "metadata": {
        "id": "72Cxp55ziPoa"
      },
      "execution_count": null,
      "outputs": []
    },
    {
      "cell_type": "code",
      "source": [
        "#@title 30.Common Operations: Find the length (Using Built-in Function)"
      ],
      "metadata": {
        "id": "ubwosLZvYiPv"
      },
      "execution_count": null,
      "outputs": []
    },
    {
      "cell_type": "code",
      "source": [
        "#@title 31.Common Operations: Find the maximum in the list (Using Built-in Function)"
      ],
      "metadata": {
        "id": "bsYWoh8viya7"
      },
      "execution_count": null,
      "outputs": []
    },
    {
      "cell_type": "code",
      "source": [
        "#@title 32.Common Operations: Find the minimum in the list (Using Built-in Function)"
      ],
      "metadata": {
        "id": "_dXOQIhsi88b"
      },
      "execution_count": null,
      "outputs": []
    },
    {
      "cell_type": "code",
      "source": [
        "#@title 33.Common Operations: Find the sum of elements in the list (Using Built-in Function)"
      ],
      "metadata": {
        "id": "EDcj1HkdjIXD"
      },
      "execution_count": null,
      "outputs": []
    },
    {
      "cell_type": "code",
      "source": [
        "#@title 34.Common Operations: Find the average of elements in the list (Using Built-in Function)"
      ],
      "metadata": {
        "id": "rQwWmGsnjMG0"
      },
      "execution_count": null,
      "outputs": []
    },
    {
      "cell_type": "code",
      "source": [
        "#@title 35.Common Operations: Find whether the list has any duplicate elements"
      ],
      "metadata": {
        "id": "YuaeC0FVjU81"
      },
      "execution_count": null,
      "outputs": []
    },
    {
      "cell_type": "code",
      "source": [
        "#@title 36.Common Operations: Multiply / Divide / Do something to every element in the list"
      ],
      "metadata": {
        "id": "6ENoMN_Pjr1t"
      },
      "execution_count": null,
      "outputs": []
    },
    {
      "cell_type": "code",
      "source": [
        "#@title 37.List Unpacking (N to <N mapping)"
      ],
      "metadata": {
        "id": "4UgT1N2MkFY6"
      },
      "execution_count": null,
      "outputs": []
    },
    {
      "cell_type": "code",
      "source": [
        "#@title 38.List Unpacking (N to <N mapping)"
      ],
      "metadata": {
        "id": "oHnK7xtkkKoM"
      },
      "execution_count": null,
      "outputs": []
    },
    {
      "cell_type": "code",
      "source": [
        "#@title 39.Printing a List (*)"
      ],
      "metadata": {
        "id": "5MXjd3xIkieL"
      },
      "execution_count": null,
      "outputs": []
    },
    {
      "cell_type": "code",
      "source": [
        "#@title 40.List Slicing"
      ],
      "metadata": {
        "id": "05fSVpKRkoc8"
      },
      "execution_count": null,
      "outputs": []
    },
    {
      "cell_type": "code",
      "source": [
        "#@title 41.List Comprehension"
      ],
      "metadata": {
        "id": "C9igc0NqkuTz"
      },
      "execution_count": null,
      "outputs": []
    },
    {
      "cell_type": "code",
      "source": [
        "#@title 42.Two Dimenstional Lists  (List of Lists)"
      ],
      "metadata": {
        "id": "Z4lXBQV0knD_"
      },
      "execution_count": null,
      "outputs": []
    },
    {
      "cell_type": "code",
      "source": [
        "#@title 43.Zipping two or three lists"
      ],
      "metadata": {
        "id": "OtnBbCUasGXV"
      },
      "execution_count": null,
      "outputs": []
    },
    {
      "cell_type": "code",
      "source": [
        "#@title 44.Applying a map funciton on the lists"
      ],
      "metadata": {
        "id": "dPqwLI6RsLxM"
      },
      "execution_count": null,
      "outputs": []
    }
  ]
}