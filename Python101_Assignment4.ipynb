{
  "nbformat": 4,
  "nbformat_minor": 0,
  "metadata": {
    "colab": {
      "provenance": [],
      "authorship_tag": "ABX9TyOA0U1yeCJfQDDHhtN3KV0J",
      "include_colab_link": true
    },
    "kernelspec": {
      "name": "python3",
      "display_name": "Python 3"
    },
    "language_info": {
      "name": "python"
    }
  },
  "cells": [
    {
      "cell_type": "markdown",
      "metadata": {
        "id": "view-in-github",
        "colab_type": "text"
      },
      "source": [
        "<a href=\"https://colab.research.google.com/github/MayukhaI12/Assignment-4/blob/Master/Chapter4_Homework.ipynb\" target=\"_parent\"><img src=\"https://colab.research.google.com/assets/colab-badge.svg\" alt=\"Open In Colab\"/></a>"
      ]
    },
    {
      "cell_type": "markdown",
      "source": [
        "# Assignment 4.1 (or 4.3 in the Textbook): Budget Analysis\n",
        "\n",
        "Write a program that asks the user to enter the amount that he or she has budgeted for a month.\n",
        "\n",
        "A loop should then prompt the user to enter each of his or her expenses for the month and keep a running total.\n",
        "When the loop finishes, the program should display the amount that the user is over or under budget."
      ],
      "metadata": {
        "id": "XQmqemNRTnEv"
      }
    },
    {
      "cell_type": "code",
      "execution_count": 14,
      "metadata": {
        "colab": {
          "base_uri": "https://localhost:8080/"
        },
        "id": "trmTlRd2CHc_",
        "outputId": "12197b4d-a6a0-4a37-d8f3-922b01915ff4"
      },
      "outputs": [
        {
          "output_type": "stream",
          "name": "stdout",
          "text": [
            "Enter your budget: 5\n",
            "Enter the number of expenses for the month: 3\n",
            "enter expense5\n",
            "enter expense5\n",
            "enter expense5\n",
            "you are over budget by $ 10.0\n"
          ]
        }
      ],
      "source": [
        "# Enter your budget to start.\n",
        "Budget = float(input(\"Enter your budget: \"))\n",
        "\n",
        "# Enter the number of expense for the month.\n",
        "Number_of_Expenses = int(input(\"Enter the number of expenses for the month: \"))\n",
        "\n",
        "# Calculating begins.\n",
        "counter = 1\n",
        "running_total = 0\n",
        "\n",
        "## While, if/elif/else commands | prints the result.\n",
        "while (counter <= Number_of_Expenses):\n",
        "  running_total = running_total + float(input(\"Enter expense\" ))\n",
        "  counter = counter + 1\n",
        "\n",
        "if(running_total < Budget):\n",
        "  print(\"You are under budget by $\" , Budget-running_total)\n",
        "elif (running_total > Budget):\n",
        "  print(\"You are over budget by $\", running_total-Budget)\n",
        "else :\n",
        "  print(\"Your budget is perfectly balanced.\")"
      ]
    },
    {
      "cell_type": "markdown",
      "source": [
        "# Assignment 4.2 (or 4.4 in the Textbook): Distance Traveled\n",
        "\n",
        "The distance a vehicle travels can be calculated as follows:\n",
        "distan⁡ce = speed × time\n",
        "\n",
        "For example, if a train travels 40 miles per hour for three hours, the distance traveled is 120 miles.\n",
        "\n",
        "Write a program that asks the user for the speed of a vehicle (in miles per hour) and the number of hours it has traveled. \n",
        " \n",
        "It should then use a loop to display the distance the vehicle has\n",
        "traveled for each hour of that time period. Here is an example of the desired output:\n",
        "\n",
        "What is the speed of the vehicle in mph? 40\n",
        "\n",
        "How many hours has it traveled? 3"
      ],
      "metadata": {
        "id": "-CMtmYc0K5L9"
      }
    },
    {
      "cell_type": "code",
      "source": [
        "# Enter the speed of the vehicle and the hours it traveled. \n",
        "MPH = int(input(\"What is the speed of the vehicle in mph? \"))\n",
        "Hours_Traveled = int(input(\"How many hours has it traveled? \"))\n",
        "\n",
        "# Calculating and printing results.\n",
        "while (Hours_Traveled > 0):\n",
        "  print(\"Distance Traveled in\" , Hours_Traveled , \"hours: \" , MPH * Hours_Traveled , \"miles.\")\n",
        "  Hours_Traveled = Hours_Traveled - 1\n"
      ],
      "metadata": {
        "colab": {
          "base_uri": "https://localhost:8080/"
        },
        "id": "HFwVa7NcLmDC",
        "outputId": "84525198-2e2e-45b1-957e-6bbe7bb9df3c"
      },
      "execution_count": 19,
      "outputs": [
        {
          "output_type": "stream",
          "name": "stdout",
          "text": [
            "What is the speed of the vehicle in mph? 40\n",
            "How many hours has it traveled? 5\n",
            "Distance Traveled in 5 hours:  200 miles.\n",
            "Distance Traveled in 4 hours:  160 miles.\n",
            "Distance Traveled in 3 hours:  120 miles.\n",
            "Distance Traveled in 2 hours:  80 miles.\n",
            "Distance Traveled in 1 hours:  40 miles.\n"
          ]
        }
      ]
    },
    {
      "cell_type": "markdown",
      "source": [
        "# Assignment 4.3 (4.6 in the Textbook): Celsius to Fahrenheit Table\n",
        "\n",
        "Write a program that displays a table of the Celsius temperatures 0 through 20 and their Fahrenheit equivalents. \n",
        "The formula for converting a temperature from Celsius to Fahrenheit is F=95C+32\n",
        "\n",
        "where F is the Fahrenheit temperature, and C is the Celsius temperature. Your program mustuse a loop to display the table."
      ],
      "metadata": {
        "id": "yAxmccbgQxO1"
      }
    },
    {
      "cell_type": "code",
      "source": [
        "# Starting degrees in Celsius.\n",
        "Celsius = 0\n",
        "\n",
        "# Calculating and printing.\n",
        "while (Celsius <= 20):\n",
        "  print(Celsius, \"Celsius =\" ,(Celsius * 9/5) + 32 ,\"Fahrenheit\")\n",
        "  Celsius = Celsius+ 1"
      ],
      "metadata": {
        "colab": {
          "base_uri": "https://localhost:8080/"
        },
        "id": "JeST6fYrRKAK",
        "outputId": "13e9475b-8ee2-4106-affd-87be2efdcc55"
      },
      "execution_count": 32,
      "outputs": [
        {
          "output_type": "stream",
          "name": "stdout",
          "text": [
            "0 Celsius = 32.0 Fahrenheit\n",
            "1 Celsius = 33.8 Fahrenheit\n",
            "2 Celsius = 35.6 Fahrenheit\n",
            "3 Celsius = 37.4 Fahrenheit\n",
            "4 Celsius = 39.2 Fahrenheit\n",
            "5 Celsius = 41.0 Fahrenheit\n",
            "6 Celsius = 42.8 Fahrenheit\n",
            "7 Celsius = 44.6 Fahrenheit\n",
            "8 Celsius = 46.4 Fahrenheit\n",
            "9 Celsius = 48.2 Fahrenheit\n",
            "10 Celsius = 50.0 Fahrenheit\n",
            "11 Celsius = 51.8 Fahrenheit\n",
            "12 Celsius = 53.6 Fahrenheit\n",
            "13 Celsius = 55.4 Fahrenheit\n",
            "14 Celsius = 57.2 Fahrenheit\n",
            "15 Celsius = 59.0 Fahrenheit\n",
            "16 Celsius = 60.8 Fahrenheit\n",
            "17 Celsius = 62.6 Fahrenheit\n",
            "18 Celsius = 64.4 Fahrenheit\n",
            "19 Celsius = 66.2 Fahrenheit\n",
            "20 Celsius = 68.0 Fahrenheit\n"
          ]
        }
      ]
    }
  ]
}