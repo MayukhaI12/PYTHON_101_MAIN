{
  "nbformat": 4,
  "nbformat_minor": 0,
  "metadata": {
    "colab": {
      "provenance": [],
      "authorship_tag": "ABX9TyP5PJmwnQdkBCqp+bOvzJdc",
      "include_colab_link": true
    },
    "kernelspec": {
      "name": "python3",
      "display_name": "Python 3"
    },
    "language_info": {
      "name": "python"
    }
  },
  "cells": [
    {
      "cell_type": "markdown",
      "metadata": {
        "id": "view-in-github",
        "colab_type": "text"
      },
      "source": [
        "<a href=\"https://colab.research.google.com/github/MayukhaI12/Assignment12/blob/main/Assignment12.ipynb\" target=\"_parent\"><img src=\"https://colab.research.google.com/assets/colab-badge.svg\" alt=\"Open In Colab\"/></a>"
      ]
    },
    {
      "cell_type": "markdown",
      "source": [
        "# Alphabetic Telephone Number Translator\n",
        "\n",
        "Many companies use telephone numbers like 555-GET-FOOD so the number is easier for their customers to remember.\n",
        "\n",
        "On a standard telephone, the alphabetic letters are mapped to numbers in the following fashion:\n",
        "\n",
        "A, B, and C = 2\n",
        "\n",
        "D, E, and F = 3\n",
        "\n",
        "G, H, and I = 4\n",
        "\n",
        "J, K, and L = 5\n",
        "\n",
        "M, N, and O = 6\n",
        "\n",
        "P, Q, R, and S = 7\n",
        "\n",
        "T, U, and V = 8\n",
        "\n",
        "W, X, Y, and Z = 9\n",
        "\n",
        "Write a program that asks the user to enter a 10-character telephone number in the format XXX-XXX-XXXX.\n",
        "\n",
        "The application should display the telephone number with any alphabetic characters that appeared in the original translated to their numeric equivalent. \n",
        "\n",
        "For example, if the user enters 555-GET-FOOD, the application should display 555-438-3663."
      ],
      "metadata": {
        "id": "AvXGVZyySJtq"
      }
    },
    {
      "cell_type": "code",
      "execution_count": 53,
      "metadata": {
        "colab": {
          "base_uri": "https://localhost:8080/"
        },
        "outputId": "dcc3b41c-8600-402a-cd43-d7d9ffbafd28",
        "id": "Ue-HmoEyuzZD"
      },
      "outputs": [
        {
          "output_type": "stream",
          "name": "stdout",
          "text": [
            "Enter the telephone number here: 555GETFOOD\n",
            "5554383663\n"
          ]
        }
      ],
      "source": [
        "from pickle import FALSE\n",
        "def alpha_conv(telephone_number):\n",
        "  t = list(telephone_number)\n",
        "  for i in range(0, len(t)):\n",
        "    if (t[i]==\"A\" or t[i]==\"B\" or t[i]==\"C\"):\n",
        "     t[i] = 2\n",
        "    elif (t[i]==\"D\" or t[i]==\"E\" or t[i]==\"F\"):\n",
        "      t[i] = 3\n",
        "    elif (t[i]==\"G\" or t[i]==\"H\" or t[i]==\"I\"):\n",
        "     t[i] = 4\n",
        "    elif (t[i]==\"J\" or t[i]==\"K\" or t[i]==\"L\"):\n",
        "     t[i] = 5\n",
        "    elif (t[i]==\"M\" or t[i]==\"N\" or t[i]==\"O\"):\n",
        "     t[i] = 6\n",
        "    elif (t[i]==\"P\" or t[i]==\"Q\" or t[i]==\"R\" or t[i]==\"S\"):\n",
        "      t[i] = 7\n",
        "    elif (t[i]==\"T\" or t[i]==\"U\" or t[i]==\"V\"):\n",
        "      t[i] = 8\n",
        "    elif (t[i]==\"W\" or t[i]==\"X\" or t[i]==\"Y\" or t[i]==\"Z\"):\n",
        "      t[i] = 9\n",
        "  tele = \"\"\n",
        "  for x in t:\n",
        "    tele += str(x)\n",
        "  return tele\n",
        "\n",
        "def validate(telephone_number):\n",
        "  if(len(telephone_number) != 10):\n",
        "    return False\n",
        "  else:\n",
        "    return True\n",
        "\n",
        "telephone_number = input(\"Enter the telephone number here: \")\n",
        "if(validate(telephone_number)):\n",
        "  tele_p = alpha_conv(telephone_number)\n",
        "  print(tele_p)\n",
        "else:\n",
        "  print(\"Telephone Number is not of valid length.\")\n"
      ]
    }
  ]
}