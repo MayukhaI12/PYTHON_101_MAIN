{
  "nbformat": 4,
  "nbformat_minor": 0,
  "metadata": {
    "colab": {
      "provenance": [],
      "authorship_tag": "ABX9TyMAu2iRyPLp7uRrU+2SGUWZ",
      "include_colab_link": true
    },
    "kernelspec": {
      "name": "python3",
      "display_name": "Python 3"
    },
    "language_info": {
      "name": "python"
    }
  },
  "cells": [
    {
      "cell_type": "markdown",
      "metadata": {
        "id": "view-in-github",
        "colab_type": "text"
      },
      "source": [
        "<a href=\"https://colab.research.google.com/github/MayukhaI12/Assignment7/blob/master/assignment7.ipynb\" target=\"_parent\"><img src=\"https://colab.research.google.com/assets/colab-badge.svg\" alt=\"Open In Colab\"/></a>"
      ]
    },
    {
      "cell_type": "code",
      "execution_count": null,
      "metadata": {
        "id": "8Ip6Wjq6SmdN"
      },
      "outputs": [],
      "source": [
        "#Assignment 7#\n",
        "#Date: 10/29/2022#\n",
        "\n",
        "#Write a program that uses nested loops to draw this pattern:\n",
        "'''\n",
        "*******\n",
        "******\n",
        "*****\n",
        "****\n",
        "***\n",
        "**\n",
        "*\n",
        "'''"
      ]
    },
    {
      "cell_type": "code",
      "source": [
        "i=7\n",
        "while True:\n",
        "  print('')\n",
        "  x=i\n",
        "  while True:\n",
        "    print(\"*\", end='')\n",
        "    x=x-1\n",
        "    if(x==0):\n",
        "      break\n",
        "  i=i-1\n",
        "  if (i==0):\n",
        "    break"
      ],
      "metadata": {
        "colab": {
          "base_uri": "https://localhost:8080/"
        },
        "id": "SGBCcDepS6hi",
        "outputId": "186dfe49-ee36-49bb-a9e0-2e4a188ddb7d"
      },
      "execution_count": null,
      "outputs": [
        {
          "output_type": "stream",
          "name": "stdout",
          "text": [
            "\n",
            "*******\n",
            "******\n",
            "*****\n",
            "****\n",
            "***\n",
            "**\n",
            "*"
          ]
        }
      ]
    }
  ]
}