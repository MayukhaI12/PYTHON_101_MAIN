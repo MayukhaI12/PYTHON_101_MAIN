{
  "nbformat": 4,
  "nbformat_minor": 0,
  "metadata": {
    "colab": {
      "provenance": [],
      "authorship_tag": "ABX9TyOTDHGqwJ1MEfqoOvO2aFeJ",
      "include_colab_link": true
    },
    "kernelspec": {
      "name": "python3",
      "display_name": "Python 3"
    },
    "language_info": {
      "name": "python"
    }
  },
  "cells": [
    {
      "cell_type": "markdown",
      "metadata": {
        "id": "view-in-github",
        "colab_type": "text"
      },
      "source": [
        "<a href=\"https://colab.research.google.com/github/MayukhaI12/Assignment-15/blob/main/Assignment15.ipynb\" target=\"_parent\"><img src=\"https://colab.research.google.com/assets/colab-badge.svg\" alt=\"Open In Colab\"/></a>"
      ]
    },
    {
      "cell_type": "code",
      "execution_count": 14,
      "metadata": {
        "colab": {
          "base_uri": "https://localhost:8080/"
        },
        "id": "NbxHYzn7VmPQ",
        "outputId": "57bc09c6-d7fd-4598-99ff-abbe7ee557c5"
      },
      "outputs": [
        {
          "output_type": "stream",
          "name": "stdout",
          "text": [
            "The year with the greatest increase in population during the time period  1955\n",
            "The year with the smallest increase in population during the time period  1967\n",
            "The average annual change in population during the time period is  2443.875\n"
          ]
        }
      ],
      "source": [
        "from IPython.core.interactiveshell import removed_co_newlocals\n",
        "\n",
        "'''\n",
        "If you have downloaded the source code you will find a file named USPopulation.txt in the\n",
        "Chapter 07 folder.\n",
        "\n",
        "The file contains the midyear population of the United States, in thousands,\n",
        "during the years 1950 through 1990. The first line in the file contains the population for 1950,\n",
        "the second line contains the population for 1951, and so forth.\n",
        "\n",
        "Write a program that reads the file’s contents into a list. The program should display the\n",
        "following data:\n",
        "\n",
        "-- The average annual change in population during the time period\n",
        "\n",
        "-- The year with the greatest increase in population during the time period\n",
        "\n",
        "-- The year with the smallest increase in population during the time period\n",
        "'''\n",
        "\n",
        "USP = open(\"/content/USPopulations.txt\")\n",
        "pop=USP.readlines()\n",
        "Annual_Change = []\n",
        "sum = 0\n",
        "year = []\n",
        "year.append(1950)\n",
        "for i in range (1, len(pop)):\n",
        "  Annual_Change.append(int(pop[i])-int(pop[i-1]))\n",
        "  sum += int(pop[i])-int(pop[i-1])\n",
        "  year.append(year[i-1]+1)\n",
        "\n",
        "\n",
        "\n",
        "  \n",
        "print(\"The year with the greatest increase in population during the time period \", year[Annual_Change.index(max(Annual_Change))+1])\n",
        "print(\"The year with the smallest increase in population during the time period \", year[Annual_Change.index(min(Annual_Change))+1])\n",
        "print(\"The average annual change in population during the time period is \",sum/len(Annual_Change))\n"
      ]
    }
  ]
}