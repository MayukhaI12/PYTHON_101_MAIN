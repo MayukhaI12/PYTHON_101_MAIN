{
  "nbformat": 4,
  "nbformat_minor": 0,
  "metadata": {
    "colab": {
      "provenance": [],
      "authorship_tag": "ABX9TyNFEx5PgyRCek9fzPfm7pgV",
      "include_colab_link": true
    },
    "kernelspec": {
      "name": "python3",
      "display_name": "Python 3"
    },
    "language_info": {
      "name": "python"
    }
  },
  "cells": [
    {
      "cell_type": "markdown",
      "metadata": {
        "id": "view-in-github",
        "colab_type": "text"
      },
      "source": [
        "<a href=\"https://colab.research.google.com/github/MayukhaI12/Assignment-3.10/blob/main/Untitled0.ipynb\" target=\"_parent\"><img src=\"https://colab.research.google.com/assets/colab-badge.svg\" alt=\"Open In Colab\"/></a>"
      ]
    },
    {
      "cell_type": "markdown",
      "source": [
        "# Distance Traveled\n",
        "\n",
        "The distance a vehicle travels can be calculated as follows:\n",
        "\n",
        "distan⁡ce = speed × time\n",
        "\n",
        "For example, if a train travels 40 miles per hour for three hours, the distance traveled is 120 miles. \n",
        "\n",
        "Write a program that asks the user for the speed of a vehicle (in miles per hour) and the number of hours it has traveled.\n",
        "\n",
        "It should then use a loop to display the distance the vehicle has\n",
        "traveled for each hour of that time period. Here is an example of the desired output:\n",
        "\n",
        "What is the speed of the vehicle in mph? 40\n",
        "\n",
        "How many hours has it traveled? 3\n",
        "\n",
        "Hour Distance Traveled\n",
        "\n",
        "1 40\n",
        "\n",
        "2 80\n",
        "\n",
        "3 120"
      ],
      "metadata": {
        "id": "zVCtJfBvOfXQ"
      }
    },
    {
      "cell_type": "code",
      "execution_count": 12,
      "metadata": {
        "colab": {
          "base_uri": "https://localhost:8080/"
        },
        "id": "Daco19wYNpTw",
        "outputId": "957e1521-26ac-4a07-d4d2-a2f5fe486d9f"
      },
      "outputs": [
        {
          "output_type": "stream",
          "name": "stdout",
          "text": [
            "Enter the speed of your vehicle (Miles per hour): 10\n",
            "Enter the number of hours it took to reach your destination: 10\n",
            "Distance travelled in  1  hour = 10.0 Miles\n",
            "Distance travelled in  2  hour = 20.0 Miles\n",
            "Distance travelled in  3  hour = 30.0 Miles\n",
            "Distance travelled in  4  hour = 40.0 Miles\n",
            "Distance travelled in  5  hour = 50.0 Miles\n",
            "Distance travelled in  6  hour = 60.0 Miles\n",
            "Distance travelled in  7  hour = 70.0 Miles\n",
            "Distance travelled in  8  hour = 80.0 Miles\n",
            "Distance travelled in  9  hour = 90.0 Miles\n",
            "Distance travelled in  10  hour = 100.0 Miles\n"
          ]
        }
      ],
      "source": [
        "speed = float(input(\"Enter the speed of your vehicle (Miles per hour): \"))\n",
        "time = int(input('Enter the number of hours it took to reach your destination: '))\n",
        "\n",
        "for i in range (1,time+1):\n",
        "  print(\"Distance travelled in \", i ,' hour =', speed * i , \"Miles\")\n",
        "\n"
      ]
    },
    {
      "cell_type": "code",
      "source": [],
      "metadata": {
        "id": "atKDpf_HTWK1"
      },
      "execution_count": null,
      "outputs": []
    },
    {
      "cell_type": "markdown",
      "source": [
        "**Celsius to Fahrenheit Table**\n",
        "Write a program that displays a table of the Celsius temperatures 0 through 20 and their\n",
        "Fahrenheit equivalents. The formula for converting a temperature from Celsius to Fahrenheit is\n",
        "F=95C+32\n",
        "where F is the Fahrenheit temperature, and C is the Celsius temperature. Your program must\n",
        "use a loop to display the table."
      ],
      "metadata": {
        "id": "7kDFP-P6TYnL"
      }
    },
    {
      "cell_type": "code",
      "source": [
        "print(\"Celsius    Fahrenheit\")\n",
        "for i in range (0,21):\n",
        "  print(i, \"C   \", ((9/5)*i)+32, \"F\" )"
      ],
      "metadata": {
        "colab": {
          "base_uri": "https://localhost:8080/"
        },
        "id": "ZgipLviqT6sd",
        "outputId": "72862fe0-8511-4ff0-d43e-ef67893222ec"
      },
      "execution_count": 17,
      "outputs": [
        {
          "output_type": "stream",
          "name": "stdout",
          "text": [
            "Celsius    Fahrenheit\n",
            "0 C    32.0 F\n",
            "1 C    33.8 F\n",
            "2 C    35.6 F\n",
            "3 C    37.4 F\n",
            "4 C    39.2 F\n",
            "5 C    41.0 F\n",
            "6 C    42.8 F\n",
            "7 C    44.6 F\n",
            "8 C    46.4 F\n",
            "9 C    48.2 F\n",
            "10 C    50.0 F\n",
            "11 C    51.8 F\n",
            "12 C    53.6 F\n",
            "13 C    55.400000000000006 F\n",
            "14 C    57.2 F\n",
            "15 C    59.0 F\n",
            "16 C    60.8 F\n",
            "17 C    62.6 F\n",
            "18 C    64.4 F\n",
            "19 C    66.2 F\n",
            "20 C    68.0 F\n"
          ]
        }
      ]
    },
    {
      "cell_type": "code",
      "source": [],
      "metadata": {
        "id": "ZCUfonxTTZQw"
      },
      "execution_count": null,
      "outputs": []
    },
    {
      "cell_type": "code",
      "source": [],
      "metadata": {
        "id": "bNk4W0nMQDc9"
      },
      "execution_count": null,
      "outputs": []
    }
  ]
}