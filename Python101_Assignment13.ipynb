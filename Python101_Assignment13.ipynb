{
  "nbformat": 4,
  "nbformat_minor": 0,
  "metadata": {
    "colab": {
      "provenance": [],
      "authorship_tag": "ABX9TyNZpQs0UoqUsGxGVgr3ianU",
      "include_colab_link": true
    },
    "kernelspec": {
      "name": "python3",
      "display_name": "Python 3"
    },
    "language_info": {
      "name": "python"
    }
  },
  "cells": [
    {
      "cell_type": "markdown",
      "metadata": {
        "id": "view-in-github",
        "colab_type": "text"
      },
      "source": [
        "<a href=\"https://colab.research.google.com/github/MayukhaI12/Assignment13/blob/main/Assignment13.ipynb\" target=\"_parent\"><img src=\"https://colab.research.google.com/assets/colab-badge.svg\" alt=\"Open In Colab\"/></a>"
      ]
    },
    {
      "cell_type": "markdown",
      "source": [
        "Assignment 13: Goldilocks.Txt\n",
        "---\n",
        "\n",
        "All of you must have read the fairy tale \"Goldilocks and Three Bears\".\n",
        "\n",
        "The story is given to you as a text file 'goldilocks.txt'.\n",
        "\n",
        "And I have the following questions on this story.\n",
        "\n",
        "<  >\n",
        "\n",
        "(For Base credit - 10 points)\n",
        "\n",
        "1. How many times 'Papa' is showing up in the story?\n",
        "\n",
        "2. How many times 'Mama' is showing up in the story?\n",
        "\n",
        "< >\n",
        "\n",
        "(For extra credit - 10 more points)\n",
        "\n",
        "3. What is the longest line in the story? Print the count of characters well.\n",
        "\n",
        "4. What is the shortest line in the story? Print the count of characters as well.\n",
        "\n",
        "Can you write a python program to answer me these questions?\n",
        "\n",
        "< >\n",
        "\n",
        "Algorithm/Steps:\n",
        "1. Upload the file to google colab\n",
        "2. Open the file for reading and create a file object\n",
        "3. read the whole text using readlines( ) method. You will get a list of lines\n",
        "4. Traverse the list to figure out the answers (you need to set up the variables outside the loop and keep updating/manipulating those variables as you go through the list)\n",
        "5. And print the answer in the end in the following format.\n",
        "\n",
        "Base Credit\n",
        "1. Count of 'Papa':  < your answer >\n",
        "2. Count of 'Mama': < your answer >\n",
        "\n",
        "Extra Credit:\n",
        "3. Longest Line Count: < number of characters\n",
        "\n",
        "    Longest Line: < your answer >\n",
        "4. Shortest Line Count: < number of characters\n",
        "\n",
        "    Shortest Line: < your answer >"
      ],
      "metadata": {
        "id": "VkAxhoSoiHuP"
      }
    },
    {
      "cell_type": "code",
      "source": [
        "# Opening \"goldilocks.txt\".\n",
        "goldilocks = open(\"/content/Assignment17/goldilocks.txt\")\n",
        "\n",
        "#  Setting variables\n",
        "papa_count = 0\n",
        "mama_count = 0 \n",
        "\n",
        "min = 5000\n",
        "max = 0\n",
        "\n",
        "longest_line =\"\"\n",
        "shortest_line=\"\"\n",
        "\n",
        "# Traversing the file and finding the answers\n",
        "for i in goldilocks:\n",
        "   papa_count = papa_count + i.count(\"Papa\")\n",
        "   mama_count = mama_count + i.count(\"Mama\")\n",
        "   if (len(i) < min):\n",
        "     min = len(i)\n",
        "     shortest_line = i\n",
        "   if (len(i) > max):\n",
        "     max = len(i)\n",
        "     longest_line = i\n",
        "\n",
        "# Printing answers\n",
        "print(\"<BASE CREDIT ANSWERS>\")\n",
        "print()\n",
        "print('Count of \"Papa\":',papa_count)\n",
        "print('Count of \"Mama\":',mama_count)\n",
        "\n",
        "print()\n",
        "\n",
        "print(\"<EXTRA CREDIT ANSWERS>\")\n",
        "print()\n",
        "print(\"Longest Line character count:\",max)\n",
        "print(\"Longest Line:\",longest_line)\n",
        "\n",
        "print(\"Shortest Line character count:\",min)\n",
        "print(\"Shortest Line:\",shortest_line)"
      ],
      "metadata": {
        "id": "ZVTWER1qVsvl",
        "colab": {
          "base_uri": "https://localhost:8080/"
        },
        "outputId": "6b6d351c-47d3-4bb0-b512-57ad1fc7b088"
      },
      "execution_count": 41,
      "outputs": [
        {
          "output_type": "stream",
          "name": "stdout",
          "text": [
            "<BASE CREDIT ANSWERS>\n",
            "\n",
            "Count of \"Papa\": 3\n",
            "Count of \"Mama\": 3\n",
            "\n",
            "<EXTRA CREDIT ANSWERS>\n",
            "\n",
            "Longest Line character count: 115\n",
            "Longest Line: Goldilocks was very tired by this time, so she went upstairs to the bedroom. She lay down in the first bed, but it\n",
            "\n",
            "Shortest Line character count: 8\n",
            "Shortest Line: pieces!\n",
            "\n"
          ]
        }
      ]
    }
  ]
}