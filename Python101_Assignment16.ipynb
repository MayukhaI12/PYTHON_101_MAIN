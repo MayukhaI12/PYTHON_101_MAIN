{
  "nbformat": 4,
  "nbformat_minor": 0,
  "metadata": {
    "colab": {
      "provenance": [],
      "authorship_tag": "ABX9TyM5ZVVmvqSW7LsPl4+muHKx",
      "include_colab_link": true
    },
    "kernelspec": {
      "name": "python3",
      "display_name": "Python 3"
    },
    "language_info": {
      "name": "python"
    }
  },
  "cells": [
    {
      "cell_type": "markdown",
      "metadata": {
        "id": "view-in-github",
        "colab_type": "text"
      },
      "source": [
        "<a href=\"https://colab.research.google.com/github/MayukhaI12/Assignment-16/blob/main/Assignment16.ipynb\" target=\"_parent\"><img src=\"https://colab.research.google.com/assets/colab-badge.svg\" alt=\"Open In Colab\"/></a>"
      ]
    },
    {
      "cell_type": "code",
      "execution_count": 44,
      "metadata": {
        "colab": {
          "base_uri": "https://localhost:8080/"
        },
        "id": "fCCwkb1iwOVq",
        "outputId": "663348b9-ef4e-4ea0-ff1b-dc56b809d4f3"
      },
      "outputs": [
        {
          "output_type": "stream",
          "name": "stdout",
          "text": [
            "<Printing Results>\n",
            "---------------------------------------------------------------\n",
            "\n",
            "List of all the unique words contained in both files are: {'', 'at', 'all', 'bear', 'too!\"', 'listen', 'broken', 'And', 'cold,', 'lonely', 'with', 'how', 'But', 'porridge,\"', 'from', 'pieces!', 'got', 'made', 'growled', 'yelled.', 'sighed.', 'bedroom,', 'bed,\"', 'bear.', 'food', 'Once', 'rest,', 'do.', 'chair.', 'said,', 'eat.', 'Hansel.', 'look', 'think?”', 'almost', 'eating', 'little', 'It', 'is', 'tired', 'then,', 'lived', 'bowls', 'ran', 'big!\"', 'wished', 'Three', 'still', 'sleeping', \"bears'\", 'gave', 'own', 'father,', 'living', 'wife.', 'That', 'this', '“we', 'One', 'seemed', 'opened', 'get', '\"Help!\"', 'just', 'upon', 'settled', 'walk', 'lost?”', 'Baby', 'thin', 'Father!', 'it.', 'home!”', 'thought', 'came', 'Each', 'too\"', 'said', 'kitchen,', 'stepmother', 'each', 'Outside', 'in.', 'coming,', 'for', 'rose,', 'about', 'tried', 'Gretel', 'were', 'too', 'answered,', 'down', 'saw', 'we', 'slapped', 'asleep.', 'two', 'After', 'upstairs', 'time', 'wife,', 'escape', 'room', 'bowl.', 'second', 'today,', 'Story', 'here', 'brother.', 'Their', 'find', '“You', 'breakfasts', 'until', 'three', 'room.', '\"Ahhh,', 'pieces,\"', 'no', 'one', 'first', 'everything', 'so', 'porridge.', 'she', 'mother,', 'it', 'bedroom.', 'if', 'tasted', 'bed,', 'home.', 'would', 'was', 'jumped', 'Papa', 'home.”', 'plates.', 'right.', 'Hansel', '\"But', 'our', 'talked', 'decided', 'by', 'forever.', 'door,', 'chair', 'Goldilocks', 're-married.', 'fell', 'exclaimed', 'after', 'girl', 'new', 'woodcutter.', 'hungry!”', 'hard', 'now,', 'my', 'long', 'around', 'returned', 'last', 'cold,\"', 'begged', 'had', 'woke', 'never', 'Just', 'smallest', 'where', 'right', \"she'd\", 'They', 'We', 'lay', 'stay', 'his', 'broke', 'are', 'what', 'forest.', 'So,', 'only', 'wanted', 'of', 'to', 'children', 'So', 'the', 'felt', 'some', 'morning', 'wore', 'sleep', 'will', 'bread', 'left.', 'trouble', 'Winter', 'brother', 'chair,\"', 'and', 'All', 'hut', 'Surely', 'day', 'right,\"', '\"You', 'warm.', 'The', 'tired.', 'hut.', 'chores', 'feeling', 'in', 'soon,', 'bed', 'knocked', 'off', 'hut,', 'house', 'up!\"', 'hungry.', 'there', 'ungrateful', 'father.', 'table', 'crust', 'walked', 'cried', 'their', 'young.', 'sat', 'go', 'than', 'be', 'poor', 'Most', 'As', 'must', 'eaten', 'they', 'big,', 'Gretel.', 'happily', 'them', 'face.', 'been', 'tell', 'went', 'here.', 'hot!\"', 'Goldilocks.', 'very', 'on', 'much', 'work', 'died', 'chairs.', 'Then', 'turned', 'not', 'her', 'night', '\"Someone\\'s', 'he', 'house.', 'Bears', 'more', 'you', 'ate', 'father', 'She', 'woods', 'screamed,', 'us', 'bowl', 'and,', 'all.', 'clothes', 'hard.', 'anymore', \"she's\", 'stairs,', 'woods!', 'home', 'allowed', 'away', 'Yet', 'exclaimed.', 'hear', 'At', 'up', 'into', 'eat', 'up.', 'finally', 'bears', 'soft.', 'sister', 'other', 'Mama', '\"This', 'there!\"', 'keep', 'Pretty', 'life', 'as', 'feet.', 'out', '“Hansel,”', 'sitting', 'His', 'cannot', 'third', 'we’re', 'boy', 'next', 'growled,', 'when', 'brats!\"', 'shivered', '“Please,', 'whined.', 'sleeping,', 'taken', 'time,', '“Do', 'rest', 'have', 'named', 'less', 'sun', 'bears.', 'porridge', 'but', \"they've\", 'a'}\n",
            "\n",
            "List of the words that appear in both files are: {'tried', 'The', 'were', 'all', 'was', 'very', 'And', 'in', 'her', 'of', 'But', 'to', 'this', 'as', 'there', 'out', 'the', 'more', 'upon', 'when', 'Once', 'time,', 'a', 'girl', 'named', 'said', 'and', 'no', 'one', 'away', 'so', 'they', 'little', 'she', 'it', 'but', 'into', 'for'}\n",
            "\n",
            "List of the words that appear in the first file but not the second are: {'', 'begged', 'had', 'at', 'listen', 'cold,', 'lonely', 'We', 'stay', 'his', 'are', 'what', 'with', 'only', 'how', 'wanted', 'children', 'felt', 'morning', 'made', 'wore', 'yelled.', 'sleep', 'will', 'bread', 'left.', 'trouble', 'Winter', 'food', 'brother', 'do.', 'All', 'said,', 'hut', 'eat.', 'Surely', 'day', 'Hansel.', 'think?”', 'almost', 'It', '\"You', 'warm.', 'lived', 'wished', 'hut.', 'chores', 'gave', 'own', 'father,', 'wife.', 'off', 'hut,', 'house', 'That', '“we', 'ungrateful', 'father.', 'One', 'seemed', 'get', 'crust', 'their', 'lost?”', 'young.', 'thin', 'go', 'Father!', 'it.', 'home!”', 'than', 'thought', 'be', 'Each', 'poor', 'Most', 'must', 'Gretel.', 'stepmother', 'each', 'Outside', 'them', 'face.', 'coming,', 'tell', 'rose,', 'about', 'Gretel', 'here.', 'on', 'much', 'work', 'died', 'we', 'slapped', 'turned', 'two', 'not', 'time', 'night', 'he', 'wife,', 'escape', 'today,', 'you', 'here', 'father', 'woods', 'us', 'brother.', 'Their', 'find', 'all.', '“You', 'clothes', 'anymore', 'until', 'woods!', 'allowed', 'everything', 'Yet', 'mother,', 'hear', 'eat', 'if', 'finally', 'would', 'sister', 'other', 'home.”', 'plates.', 'Hansel', '\"But', 'our', 'keep', 'talked', 'forever.', 'life', '“Hansel,”', 'His', 'cannot', 'we’re', 'boy', 'next', 'brats!\"', 'shivered', '“Please,', 'taken', '“Do', 're-married.', 'after', 'have', 'less', 'new', 'woodcutter.', 'hungry!”', 'hard', 'sun', 'now,', 'long'}\n",
            "\n",
            "List of the words that appear in the second file but not the first are: {'bear', 'woke', 'never', 'Just', 'smallest', 'where', 'too!\"', 'right', 'broken', \"she'd\", 'They', 'lay', 'broke', 'forest.', 'So,', 'porridge,\"', 'pieces!', 'from', 'got', 'So', 'some', 'growled', 'sighed.', 'bedroom,', 'bed,\"', 'bear.', 'chair,\"', 'rest,', 'chair.', 'right,\"', 'look', 'eating', 'is', 'tired', 'then,', 'bowls', 'ran', 'big!\"', 'Three', 'still', 'tired.', 'sleeping', \"bears'\", 'feeling', 'living', 'soon,', 'bed', 'knocked', 'up!\"', 'hungry.', 'table', 'opened', '\"Help!\"', 'walked', 'just', 'settled', 'cried', 'walk', 'Baby', 'sat', 'came', 'As', 'too\"', 'kitchen,', 'eaten', 'big,', 'happily', 'in.', 'been', 'went', 'hot!\"', 'too', 'Goldilocks.', 'answered,', 'down', 'saw', 'chairs.', 'Then', 'asleep.', 'After', 'upstairs', '\"Someone\\'s', 'room', 'bowl.', 'house.', 'second', 'Bears', 'Story', 'ate', 'She', 'screamed,', 'bowl', 'and,', 'breakfasts', 'hard.', \"she's\", 'three', 'room.', '\"Ahhh,', 'stairs,', 'home', 'pieces,\"', 'first', 'exclaimed.', 'porridge.', 'At', 'bedroom.', 'up', 'up.', 'bears', 'tasted', 'soft.', 'bed,', 'home.', 'jumped', 'Papa', 'Mama', '\"This', 'right.', 'cold,\"', 'there!\"', 'decided', 'by', 'Pretty', 'door,', 'feet.', 'sitting', 'third', 'growled,', 'whined.', 'sleeping,', 'chair', 'Goldilocks', 'rest', 'fell', 'exclaimed', 'bears.', 'my', 'porridge', 'around', 'returned', 'last', \"they've\"}\n",
            "\n",
            "List of the words that appear in either the first or second file, but not both are:  {'', 'at', 'too!\"', 'broken', 'with', 'how', 'porridge,\"', 'sighed.', 'said,', 'almost', 'eating', 'It', 'bowls', 'big!\"', 'still', 'sleeping', \"bears'\", 'own', 'living', 'wife.', 'That', '“we', 'seemed', 'opened', 'get', '\"Help!\"', 'walk', 'lost?”', 'thin', 'Father!', 'it.', 'home!”', 'came', 'Each', 'Outside', 'rose,', 'about', 'Gretel', 'too', 'saw', 'we', 'slapped', 'two', 'upstairs', 'time', 'wife,', 'room', 'escape', 'second', 'Story', 'here', 'brother.', 'Their', 'find', 'until', 'room.', '\"Ahhh,', 'pieces,\"', 'first', 'porridge.', 'if', 'bed,', 'home.', 'would', 'plates.', 'talked', 'forever.', 'chair', 're-married.', 'exclaimed', 'new', 'hungry!”', 'hard', 'my', 'around', 'returned', 'begged', 'had', 'where', 'right', 'broke', 'his', 'are', 'what', 'forest.', 'only', 'felt', 'some', 'sleep', 'bread', 'Winter', 'brother', 'All', 'Surely', 'tired.', 'hut.', 'feeling', 'soon,', 'off', 'hut,', 'house', 'table', 'father.', 'crust', 'young.', 'than', 'Most', 'must', 'eaten', 'big,', 'Gretel.', 'been', 'tell', 'on', 'died', 'Then', '\"Someone\\'s', 'house.', 'Bears', 'ate', 'She', 'screamed,', 'clothes', 'anymore', 'home', 'woods!', 'allowed', 'exclaimed.', 'hear', 'up', 'finally', 'other', 'Mama', '\"This', 'feet.', '“Hansel,”', 'cannot', 'growled,', 'brats!\"', 'shivered', '“Please,', 'whined.', 'sleeping,', '“Do', 'rest', 'have', 'sun', 'porridge', \"they've\", 'bear', 'listen', 'cold,', 'lonely', 'from', 'pieces!', 'got', 'made', 'growled', 'yelled.', 'bedroom,', 'bed,\"', 'bear.', 'food', 'rest,', 'do.', 'chair.', 'eat.', 'Hansel.', 'look', 'think?”', 'is', 'tired', 'then,', 'lived', 'ran', 'wished', 'Three', 'gave', 'father,', 'One', 'just', 'settled', 'Baby', 'thought', 'too\"', 'kitchen,', 'stepmother', 'each', 'in.', 'coming,', 'answered,', 'down', 'asleep.', 'After', 'bowl.', 'today,', '“You', 'breakfasts', 'three', 'everything', 'mother,', 'bedroom.', 'tasted', 'jumped', 'Papa', 'home.”', 'right.', 'Hansel', '\"But', 'our', 'decided', 'by', 'door,', 'Goldilocks', 'fell', 'after', 'woodcutter.', 'now,', 'long', 'last', 'cold,\"', 'woke', 'never', 'Just', 'smallest', \"she'd\", 'They', 'lay', 'We', 'stay', 'So,', 'wanted', 'children', 'So', 'morning', 'wore', 'will', 'left.', 'trouble', 'chair,\"', 'hut', 'right,\"', 'day', '\"You', 'warm.', 'chores', 'bed', 'knocked', 'up!\"', 'hungry.', 'ungrateful', 'walked', 'cried', 'their', 'sat', 'go', 'be', 'poor', 'As', 'happily', 'them', 'face.', 'went', 'hot!\"', 'Goldilocks.', 'here.', 'much', 'work', 'chairs.', 'turned', 'not', 'night', 'he', 'you', 'father', 'woods', 'bowl', 'us', 'and,', 'all.', 'hard.', \"she's\", 'stairs,', 'Yet', 'At', 'up.', 'bears', 'soft.', 'eat', 'sister', 'there!\"', 'keep', 'Pretty', 'life', 'sitting', 'third', 'His', 'we’re', 'boy', 'next', 'taken', 'less', 'bears.'}\n",
            "\n"
          ]
        }
      ],
      "source": [
        "from posixpath import split\n",
        "'''\n",
        "File Analysis\n",
        "\n",
        "Write a program that reads the contents of two text files and compares them in the following\n",
        "ways:\n",
        "It should display a list of all the unique words contained in both files.\n",
        "It should display a list of the words that appear in both files.\n",
        "It should display a list of the words that appear in the first file but not the second.\n",
        "It should display a list of the words that appear in the second file but not the first.\n",
        "It should display a list of the words that appear in either the first or second file, but not\n",
        "both.\n",
        "\n",
        "Hint: Use set operations to perform these analyses.\n",
        "'''\n",
        "\n",
        "'''\n",
        "(Extra Credit 10 points)\n",
        "Create a new file called \"combined_file.txt\" which places all the unique words from both the list.\n",
        "That is.. perform the union and dump the union to the new file.\n",
        "'''\n",
        "\n",
        "file_1 = open(\"/content/HanselAndGretel.txt\")\n",
        "file_2 = open(\"/content/Goldilocks.txt\")\n",
        "rf1 = file_1.read()\n",
        "rf1=str(rf1)\n",
        "rf1_lst=[]\n",
        "rf1_lst = rf1.split(' ')\n",
        "rf1_cln =[]\n",
        "\n",
        "rf2 = file_2.read()\n",
        "rf2=str(rf2)\n",
        "rf2_lst=rf2.split(' ')\n",
        "rf2_cln=[]\n",
        "\n",
        "for i in rf1_lst:\n",
        "  if '\\n' in i:\n",
        "    x = i.split('\\n')\n",
        "    for j in x:\n",
        "      rf1_cln.append(j)\n",
        "  else:\n",
        "    rf1_cln.append(i)\n",
        "\n",
        "for i in rf2_lst:\n",
        "  if '\\n' in i:\n",
        "    y = i.split('\\n')\n",
        "    for j in y:\n",
        "      rf2_cln.append(j)\n",
        "  else:\n",
        "    rf2_cln.append(i)\n",
        "\n",
        "set1 = set()\n",
        "for i in rf1_cln:\n",
        "  set1.add(i)\n",
        "\n",
        "set2 =set()\n",
        "for i in rf2_cln:\n",
        "  set2.add(i)\n",
        "\n",
        "print(\"<Printing Results>\")\n",
        "print(\"---------------------------------------------------------------\")\n",
        "print()\n",
        "print(\"List of all the unique words contained in both files are:\", set1.union(set2))\n",
        "print()\n",
        "print(\"List of the words that appear in both files are:\", set1.intersection(set2))\n",
        "print()\n",
        "print(\"List of the words that appear in the first file but not the second are:\", set1.difference(set2))\n",
        "print()\n",
        "print(\"List of the words that appear in the second file but not the first are:\", set2.difference(set1))\n",
        "print()\n",
        "print(\"List of the words that appear in either the first or second file, but not both are: \", set1.symmetric_difference(set2))\n",
        "print()\n",
        "\n",
        "#################################################\n",
        "\n",
        "x = str(set1.union(set2))\n",
        "x = x.split(\",\")\n",
        "\n",
        "combined_files = open(\"/content/combined_files.txt\",'w')\n",
        "\n",
        "combined_files.write(\"List of all the unique words contained in both files are:\")\n",
        "for i in range (0,len(x)):\n",
        "  combined_files.write(str(x[i]))\n"
      ]
    }
  ]
}